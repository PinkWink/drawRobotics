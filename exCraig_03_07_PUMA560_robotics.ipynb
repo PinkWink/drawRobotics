{
 "metadata": {
  "name": "",
  "signature": "sha256:c25968e9c0c35e7b17268f7012a22fafebca47489e3ab5b6dec5312f35d9813f"
 },
 "nbformat": 3,
 "nbformat_minor": 0,
 "worksheets": [
  {
   "cells": [
    {
     "cell_type": "code",
     "collapsed": false,
     "input": [
      "import sympy as sp\n",
      "sp.init_printing()\n",
      "\n",
      "conv2Rad = lambda x : x*sp.pi/180\n",
      "\n",
      "theta1 = sp.Symbol('theta1')\n",
      "theta2 = sp.Symbol('theta2')\n",
      "theta3 = sp.Symbol('theta3')\n",
      "theta4 = sp.Symbol('theta4')\n",
      "theta5 = sp.Symbol('theta5')\n",
      "theta6 = sp.Symbol('theta6')\n",
      "\n",
      "a2, a3 = sp.symbols('a2 a3')\n",
      "d3, d4 = sp.symbols('d3 d4')\n",
      "\n",
      "def RotZ(a):\n",
      "\treturn sp.Matrix( [\t[sp.cos(a), -sp.sin(a), 0, 0], \n",
      "\t\t\t\t\t\t[sp.sin(a), sp.cos(a), 0, 0], \n",
      "\t\t\t\t\t\t[0, 0, 1, 0],\n",
      "\t\t\t\t\t\t[0, 0, 0, 1] ] )\n",
      "\n",
      "def RotX(a):\n",
      "\treturn sp.Matrix( [\t[1, 0, 0, 0], \n",
      "\t\t\t\t\t\t[0, sp.cos(a), -sp.sin(a), 0],\n",
      "\t\t\t\t\t\t[0, sp.sin(a), sp.cos(a), 0],\n",
      "\t\t\t\t\t\t[0, 0, 0, 1] ] )\n",
      "\n",
      "def D_q(a1,a2,a3):\n",
      "\treturn sp.Matrix([[1,0,0,a1],[0,1,0,a2],[0,0,1,a3],[0,0,0,1]])"
     ],
     "language": "python",
     "metadata": {},
     "outputs": [],
     "prompt_number": 1
    },
    {
     "cell_type": "code",
     "collapsed": false,
     "input": [
      "Trans_0to1 = RotZ(theta1)\n",
      "Trans_1to2 = RotX(conv2Rad(-90))*RotZ(theta2)\n",
      "Trans_2to3 = D_q(a2,0,0)*D_q(0,0,d3)*RotZ(theta3)\n",
      "Trans_3to4 = RotX(conv2Rad(-90))*D_q(a3,0,0)*D_q(0,0,d4)*RotZ(theta4)\n",
      "Trans_4to5 = RotX(conv2Rad(90))*RotZ(theta5)\n",
      "Trans_5to6 = RotX(conv2Rad(-90))*RotZ(theta6)"
     ],
     "language": "python",
     "metadata": {},
     "outputs": [],
     "prompt_number": 2
    },
    {
     "cell_type": "code",
     "collapsed": false,
     "input": [
      "Trans_0to2 = sp.simplify(Trans_0to1*Trans_1to2)\n",
      "Trans_0to3 = sp.simplify(Trans_0to2*Trans_2to3)\n",
      "Trans_0to4 = sp.simplify(Trans_0to3*Trans_3to4)\n",
      "Trans_0to5 = sp.simplify(Trans_0to4*Trans_4to5)\n",
      "Trans_0to6 = sp.simplify(Trans_0to5*Trans_5to6)"
     ],
     "language": "python",
     "metadata": {},
     "outputs": [],
     "prompt_number": 3
    },
    {
     "cell_type": "code",
     "collapsed": false,
     "input": [
      "Trans_0to1"
     ],
     "language": "python",
     "metadata": {},
     "outputs": [
      {
       "latex": [
        "$$\\left[\\begin{matrix}\\cos{\\left (\\theta_{1} \\right )} & - \\sin{\\left (\\theta_{1} \\right )} & 0 & 0\\\\\\sin{\\left (\\theta_{1} \\right )} & \\cos{\\left (\\theta_{1} \\right )} & 0 & 0\\\\0 & 0 & 1 & 0\\\\0 & 0 & 0 & 1\\end{matrix}\\right]$$"
       ],
       "metadata": {},
       "output_type": "pyout",
       "prompt_number": 25,
       "text": [
        "\u23a1cos(\u03b8\u2081)  -sin(\u03b8\u2081)  0  0\u23a4\n",
        "\u23a2                       \u23a5\n",
        "\u23a2sin(\u03b8\u2081)  cos(\u03b8\u2081)   0  0\u23a5\n",
        "\u23a2                       \u23a5\n",
        "\u23a2   0        0      1  0\u23a5\n",
        "\u23a2                       \u23a5\n",
        "\u23a3   0        0      0  1\u23a6"
       ]
      }
     ],
     "prompt_number": 25
    },
    {
     "cell_type": "code",
     "collapsed": false,
     "input": [
      "Trans_0to2"
     ],
     "language": "python",
     "metadata": {},
     "outputs": [
      {
       "latex": [
        "$$\\left[\\begin{matrix}\\cos{\\left (\\theta_{1} \\right )} \\cos{\\left (\\theta_{2} \\right )} & - \\sin{\\left (\\theta_{2} \\right )} \\cos{\\left (\\theta_{1} \\right )} & - \\sin{\\left (\\theta_{1} \\right )} & 0\\\\\\sin{\\left (\\theta_{1} \\right )} \\cos{\\left (\\theta_{2} \\right )} & - \\sin{\\left (\\theta_{1} \\right )} \\sin{\\left (\\theta_{2} \\right )} & \\cos{\\left (\\theta_{1} \\right )} & 0\\\\- \\sin{\\left (\\theta_{2} \\right )} & - \\cos{\\left (\\theta_{2} \\right )} & 0 & 0\\\\0 & 0 & 0 & 1\\end{matrix}\\right]$$"
       ],
       "metadata": {},
       "output_type": "pyout",
       "prompt_number": 26,
       "text": [
        "\u23a1cos(\u03b8\u2081)\u22c5cos(\u03b8\u2082)  -sin(\u03b8\u2082)\u22c5cos(\u03b8\u2081)  -sin(\u03b8\u2081)  0\u23a4\n",
        "\u23a2                                              \u23a5\n",
        "\u23a2sin(\u03b8\u2081)\u22c5cos(\u03b8\u2082)  -sin(\u03b8\u2081)\u22c5sin(\u03b8\u2082)  cos(\u03b8\u2081)   0\u23a5\n",
        "\u23a2                                              \u23a5\n",
        "\u23a2   -sin(\u03b8\u2082)          -cos(\u03b8\u2082)         0      0\u23a5\n",
        "\u23a2                                              \u23a5\n",
        "\u23a3       0                0             0      1\u23a6"
       ]
      }
     ],
     "prompt_number": 26
    },
    {
     "cell_type": "code",
     "collapsed": false,
     "input": [
      "Trans_0to3"
     ],
     "language": "python",
     "metadata": {},
     "outputs": [
      {
       "latex": [
        "$$\\left[\\begin{matrix}\\cos{\\left (\\theta_{1} \\right )} \\cos{\\left (\\theta_{2} + \\theta_{3} \\right )} & - \\sin{\\left (\\theta_{2} + \\theta_{3} \\right )} \\cos{\\left (\\theta_{1} \\right )} & - \\sin{\\left (\\theta_{1} \\right )} & a_{2} \\cos{\\left (\\theta_{1} \\right )} \\cos{\\left (\\theta_{2} \\right )} - d_{3} \\sin{\\left (\\theta_{1} \\right )}\\\\\\sin{\\left (\\theta_{1} \\right )} \\cos{\\left (\\theta_{2} + \\theta_{3} \\right )} & - \\sin{\\left (\\theta_{1} \\right )} \\sin{\\left (\\theta_{2} + \\theta_{3} \\right )} & \\cos{\\left (\\theta_{1} \\right )} & a_{2} \\sin{\\left (\\theta_{1} \\right )} \\cos{\\left (\\theta_{2} \\right )} + d_{3} \\cos{\\left (\\theta_{1} \\right )}\\\\- \\sin{\\left (\\theta_{2} + \\theta_{3} \\right )} & - \\cos{\\left (\\theta_{2} + \\theta_{3} \\right )} & 0 & - a_{2} \\sin{\\left (\\theta_{2} \\right )}\\\\0 & 0 & 0 & 1\\end{matrix}\\right]$$"
       ],
       "metadata": {},
       "output_type": "pyout",
       "prompt_number": 27,
       "text": [
        "\u23a1cos(\u03b8\u2081)\u22c5cos(\u03b8\u2082 + \u03b8\u2083)  -sin(\u03b8\u2082 + \u03b8\u2083)\u22c5cos(\u03b8\u2081)  -sin(\u03b8\u2081)  a\u2082\u22c5cos(\u03b8\u2081)\u22c5cos(\u03b8\u2082) - d\n",
        "\u23a2                                                                             \n",
        "\u23a2sin(\u03b8\u2081)\u22c5cos(\u03b8\u2082 + \u03b8\u2083)  -sin(\u03b8\u2081)\u22c5sin(\u03b8\u2082 + \u03b8\u2083)  cos(\u03b8\u2081)   a\u2082\u22c5sin(\u03b8\u2081)\u22c5cos(\u03b8\u2082) + d\n",
        "\u23a2                                                                             \n",
        "\u23a2   -sin(\u03b8\u2082 + \u03b8\u2083)          -cos(\u03b8\u2082 + \u03b8\u2083)         0                -a\u2082\u22c5sin(\u03b8\u2082) \n",
        "\u23a2                                                                             \n",
        "\u23a3         0                      0               0                     1      \n",
        "\n",
        "\u2083\u22c5sin(\u03b8\u2081)\u23a4\n",
        "         \u23a5\n",
        "\u2083\u22c5cos(\u03b8\u2081)\u23a5\n",
        "         \u23a5\n",
        "         \u23a5\n",
        "         \u23a5\n",
        "         \u23a6"
       ]
      }
     ],
     "prompt_number": 27
    },
    {
     "cell_type": "code",
     "collapsed": false,
     "input": [
      "Trans_0to4"
     ],
     "language": "python",
     "metadata": {},
     "outputs": [
      {
       "latex": [
        "$$\\left[\\begin{matrix}\\sin{\\left (\\theta_{1} \\right )} \\sin{\\left (\\theta_{4} \\right )} + \\cos{\\left (\\theta_{1} \\right )} \\cos{\\left (\\theta_{4} \\right )} \\cos{\\left (\\theta_{2} + \\theta_{3} \\right )} & \\sin{\\left (\\theta_{1} \\right )} \\cos{\\left (\\theta_{4} \\right )} - \\sin{\\left (\\theta_{4} \\right )} \\cos{\\left (\\theta_{1} \\right )} \\cos{\\left (\\theta_{2} + \\theta_{3} \\right )} & - \\sin{\\left (\\theta_{2} + \\theta_{3} \\right )} \\cos{\\left (\\theta_{1} \\right )} & a_{2} \\cos{\\left (\\theta_{1} \\right )} \\cos{\\left (\\theta_{2} \\right )} + a_{3} \\cos{\\left (\\theta_{1} \\right )} \\cos{\\left (\\theta_{2} + \\theta_{3} \\right )} - d_{3} \\sin{\\left (\\theta_{1} \\right )} - d_{4} \\sin{\\left (\\theta_{2} + \\theta_{3} \\right )} \\cos{\\left (\\theta_{1} \\right )}\\\\\\sin{\\left (\\theta_{1} \\right )} \\cos{\\left (\\theta_{4} \\right )} \\cos{\\left (\\theta_{2} + \\theta_{3} \\right )} - \\sin{\\left (\\theta_{4} \\right )} \\cos{\\left (\\theta_{1} \\right )} & - \\sin{\\left (\\theta_{1} \\right )} \\sin{\\left (\\theta_{4} \\right )} \\cos{\\left (\\theta_{2} + \\theta_{3} \\right )} - \\cos{\\left (\\theta_{1} \\right )} \\cos{\\left (\\theta_{4} \\right )} & - \\sin{\\left (\\theta_{1} \\right )} \\sin{\\left (\\theta_{2} + \\theta_{3} \\right )} & a_{2} \\sin{\\left (\\theta_{1} \\right )} \\cos{\\left (\\theta_{2} \\right )} + a_{3} \\sin{\\left (\\theta_{1} \\right )} \\cos{\\left (\\theta_{2} + \\theta_{3} \\right )} + d_{3} \\cos{\\left (\\theta_{1} \\right )} - d_{4} \\sin{\\left (\\theta_{1} \\right )} \\sin{\\left (\\theta_{2} + \\theta_{3} \\right )}\\\\- \\sin{\\left (\\theta_{2} + \\theta_{3} \\right )} \\cos{\\left (\\theta_{4} \\right )} & \\sin{\\left (\\theta_{4} \\right )} \\sin{\\left (\\theta_{2} + \\theta_{3} \\right )} & - \\cos{\\left (\\theta_{2} + \\theta_{3} \\right )} & - a_{2} \\sin{\\left (\\theta_{2} \\right )} - a_{3} \\sin{\\left (\\theta_{2} + \\theta_{3} \\right )} - d_{4} \\cos{\\left (\\theta_{2} + \\theta_{3} \\right )}\\\\0 & 0 & 0 & 1\\end{matrix}\\right]$$"
       ],
       "metadata": {},
       "output_type": "pyout",
       "prompt_number": 9,
       "text": [
        "\u23a1sin(\u03b8\u2081)\u22c5sin(\u03b8\u2084) + cos(\u03b8\u2081)\u22c5cos(\u03b8\u2084)\u22c5cos(\u03b8\u2082 + \u03b8\u2083)  sin(\u03b8\u2081)\u22c5cos(\u03b8\u2084) - sin(\u03b8\u2084)\u22c5cos\n",
        "\u23a2                                                                             \n",
        "\u23a2sin(\u03b8\u2081)\u22c5cos(\u03b8\u2084)\u22c5cos(\u03b8\u2082 + \u03b8\u2083) - sin(\u03b8\u2084)\u22c5cos(\u03b8\u2081)  -sin(\u03b8\u2081)\u22c5sin(\u03b8\u2084)\u22c5cos(\u03b8\u2082 + \u03b8\u2083)\n",
        "\u23a2                                                                             \n",
        "\u23a2            -sin(\u03b8\u2082 + \u03b8\u2083)\u22c5cos(\u03b8\u2084)                            sin(\u03b8\u2084)\u22c5sin(\u03b8\u2082 +\n",
        "\u23a2                                                                             \n",
        "\u23a3                      0                                                0     \n",
        "\n",
        "(\u03b8\u2081)\u22c5cos(\u03b8\u2082 + \u03b8\u2083)   -sin(\u03b8\u2082 + \u03b8\u2083)\u22c5cos(\u03b8\u2081)  a\u2082\u22c5cos(\u03b8\u2081)\u22c5cos(\u03b8\u2082) + a\u2083\u22c5cos(\u03b8\u2081)\u22c5cos\n",
        "                                                                              \n",
        " - cos(\u03b8\u2081)\u22c5cos(\u03b8\u2084)  -sin(\u03b8\u2081)\u22c5sin(\u03b8\u2082 + \u03b8\u2083)  a\u2082\u22c5sin(\u03b8\u2081)\u22c5cos(\u03b8\u2082) + a\u2083\u22c5sin(\u03b8\u2081)\u22c5cos\n",
        "                                                                              \n",
        " \u03b8\u2083)                    -cos(\u03b8\u2082 + \u03b8\u2083)                        -a\u2082\u22c5sin(\u03b8\u2082) - a\u2083\u22c5\n",
        "                                                                              \n",
        "                              0                                               \n",
        "\n",
        "(\u03b8\u2082 + \u03b8\u2083) - d\u2083\u22c5sin(\u03b8\u2081) - d\u2084\u22c5sin(\u03b8\u2082 + \u03b8\u2083)\u22c5cos(\u03b8\u2081)\u23a4\n",
        "                                                \u23a5\n",
        "(\u03b8\u2082 + \u03b8\u2083) + d\u2083\u22c5cos(\u03b8\u2081) - d\u2084\u22c5sin(\u03b8\u2081)\u22c5sin(\u03b8\u2082 + \u03b8\u2083)\u23a5\n",
        "                                                \u23a5\n",
        "sin(\u03b8\u2082 + \u03b8\u2083) - d\u2084\u22c5cos(\u03b8\u2082 + \u03b8\u2083)                  \u23a5\n",
        "                                                \u23a5\n",
        "      1                                         \u23a6"
       ]
      }
     ],
     "prompt_number": 9
    },
    {
     "cell_type": "code",
     "collapsed": false,
     "input": [
      "Trans_0to5"
     ],
     "language": "python",
     "metadata": {},
     "outputs": [
      {
       "latex": [
        "$$\\left[\\begin{matrix}\\left(\\sin{\\left (\\theta_{1} \\right )} \\sin{\\left (\\theta_{4} \\right )} + \\cos{\\left (\\theta_{1} \\right )} \\cos{\\left (\\theta_{4} \\right )} \\cos{\\left (\\theta_{2} + \\theta_{3} \\right )}\\right) \\cos{\\left (\\theta_{5} \\right )} - \\sin{\\left (\\theta_{5} \\right )} \\sin{\\left (\\theta_{2} + \\theta_{3} \\right )} \\cos{\\left (\\theta_{1} \\right )} & - \\left(\\sin{\\left (\\theta_{1} \\right )} \\sin{\\left (\\theta_{4} \\right )} + \\cos{\\left (\\theta_{1} \\right )} \\cos{\\left (\\theta_{4} \\right )} \\cos{\\left (\\theta_{2} + \\theta_{3} \\right )}\\right) \\sin{\\left (\\theta_{5} \\right )} - \\sin{\\left (\\theta_{2} + \\theta_{3} \\right )} \\cos{\\left (\\theta_{1} \\right )} \\cos{\\left (\\theta_{5} \\right )} & - \\sin{\\left (\\theta_{1} \\right )} \\cos{\\left (\\theta_{4} \\right )} + \\sin{\\left (\\theta_{4} \\right )} \\cos{\\left (\\theta_{1} \\right )} \\cos{\\left (\\theta_{2} + \\theta_{3} \\right )} & a_{2} \\cos{\\left (\\theta_{1} \\right )} \\cos{\\left (\\theta_{2} \\right )} + a_{3} \\cos{\\left (\\theta_{1} \\right )} \\cos{\\left (\\theta_{2} + \\theta_{3} \\right )} - d_{3} \\sin{\\left (\\theta_{1} \\right )} - d_{4} \\sin{\\left (\\theta_{2} + \\theta_{3} \\right )} \\cos{\\left (\\theta_{1} \\right )}\\\\\\left(\\sin{\\left (\\theta_{1} \\right )} \\cos{\\left (\\theta_{4} \\right )} \\cos{\\left (\\theta_{2} + \\theta_{3} \\right )} - \\sin{\\left (\\theta_{4} \\right )} \\cos{\\left (\\theta_{1} \\right )}\\right) \\cos{\\left (\\theta_{5} \\right )} - \\sin{\\left (\\theta_{1} \\right )} \\sin{\\left (\\theta_{5} \\right )} \\sin{\\left (\\theta_{2} + \\theta_{3} \\right )} & - \\left(\\sin{\\left (\\theta_{1} \\right )} \\cos{\\left (\\theta_{4} \\right )} \\cos{\\left (\\theta_{2} + \\theta_{3} \\right )} - \\sin{\\left (\\theta_{4} \\right )} \\cos{\\left (\\theta_{1} \\right )}\\right) \\sin{\\left (\\theta_{5} \\right )} - \\sin{\\left (\\theta_{1} \\right )} \\sin{\\left (\\theta_{2} + \\theta_{3} \\right )} \\cos{\\left (\\theta_{5} \\right )} & \\sin{\\left (\\theta_{1} \\right )} \\sin{\\left (\\theta_{4} \\right )} \\cos{\\left (\\theta_{2} + \\theta_{3} \\right )} + \\cos{\\left (\\theta_{1} \\right )} \\cos{\\left (\\theta_{4} \\right )} & a_{2} \\sin{\\left (\\theta_{1} \\right )} \\cos{\\left (\\theta_{2} \\right )} + a_{3} \\sin{\\left (\\theta_{1} \\right )} \\cos{\\left (\\theta_{2} + \\theta_{3} \\right )} + d_{3} \\cos{\\left (\\theta_{1} \\right )} - d_{4} \\sin{\\left (\\theta_{1} \\right )} \\sin{\\left (\\theta_{2} + \\theta_{3} \\right )}\\\\- \\sin{\\left (\\theta_{5} \\right )} \\cos{\\left (\\theta_{2} + \\theta_{3} \\right )} - \\sin{\\left (\\theta_{2} + \\theta_{3} \\right )} \\cos{\\left (\\theta_{4} \\right )} \\cos{\\left (\\theta_{5} \\right )} & \\sin{\\left (\\theta_{5} \\right )} \\sin{\\left (\\theta_{2} + \\theta_{3} \\right )} \\cos{\\left (\\theta_{4} \\right )} - \\cos{\\left (\\theta_{5} \\right )} \\cos{\\left (\\theta_{2} + \\theta_{3} \\right )} & - \\sin{\\left (\\theta_{4} \\right )} \\sin{\\left (\\theta_{2} + \\theta_{3} \\right )} & - a_{2} \\sin{\\left (\\theta_{2} \\right )} - a_{3} \\sin{\\left (\\theta_{2} + \\theta_{3} \\right )} - d_{4} \\cos{\\left (\\theta_{2} + \\theta_{3} \\right )}\\\\0 & 0 & 0 & 1\\end{matrix}\\right]$$"
       ],
       "metadata": {},
       "output_type": "pyout",
       "prompt_number": 28,
       "text": [
        "\u23a1(sin(\u03b8\u2081)\u22c5sin(\u03b8\u2084) + cos(\u03b8\u2081)\u22c5cos(\u03b8\u2084)\u22c5cos(\u03b8\u2082 + \u03b8\u2083))\u22c5cos(\u03b8\u2085) - sin(\u03b8\u2085)\u22c5sin(\u03b8\u2082 + \u03b8\n",
        "\u23a2                                                                             \n",
        "\u23a2(sin(\u03b8\u2081)\u22c5cos(\u03b8\u2084)\u22c5cos(\u03b8\u2082 + \u03b8\u2083) - sin(\u03b8\u2084)\u22c5cos(\u03b8\u2081))\u22c5cos(\u03b8\u2085) - sin(\u03b8\u2081)\u22c5sin(\u03b8\u2085)\u22c5si\n",
        "\u23a2                                                                             \n",
        "\u23a2                 -sin(\u03b8\u2085)\u22c5cos(\u03b8\u2082 + \u03b8\u2083) - sin(\u03b8\u2082 + \u03b8\u2083)\u22c5cos(\u03b8\u2084)\u22c5cos(\u03b8\u2085)        \n",
        "\u23a2                                                                             \n",
        "\u23a3                                           0                                 \n",
        "\n",
        "\u2083)\u22c5cos(\u03b8\u2081)  -(sin(\u03b8\u2081)\u22c5sin(\u03b8\u2084) + cos(\u03b8\u2081)\u22c5cos(\u03b8\u2084)\u22c5cos(\u03b8\u2082 + \u03b8\u2083))\u22c5sin(\u03b8\u2085) - sin(\u03b8\u2082\n",
        "                                                                              \n",
        "n(\u03b8\u2082 + \u03b8\u2083)  -(sin(\u03b8\u2081)\u22c5cos(\u03b8\u2084)\u22c5cos(\u03b8\u2082 + \u03b8\u2083) - sin(\u03b8\u2084)\u22c5cos(\u03b8\u2081))\u22c5sin(\u03b8\u2085) - sin(\u03b8\u2081\n",
        "                                                                              \n",
        "                              sin(\u03b8\u2085)\u22c5sin(\u03b8\u2082 + \u03b8\u2083)\u22c5cos(\u03b8\u2084) - cos(\u03b8\u2085)\u22c5cos(\u03b8\u2082 + \n",
        "                                                                              \n",
        "                                                       0                      \n",
        "\n",
        " + \u03b8\u2083)\u22c5cos(\u03b8\u2081)\u22c5cos(\u03b8\u2085)  -sin(\u03b8\u2081)\u22c5cos(\u03b8\u2084) + sin(\u03b8\u2084)\u22c5cos(\u03b8\u2081)\u22c5cos(\u03b8\u2082 + \u03b8\u2083)  a\u2082\u22c5co\n",
        "                                                                              \n",
        ")\u22c5sin(\u03b8\u2082 + \u03b8\u2083)\u22c5cos(\u03b8\u2085)  sin(\u03b8\u2081)\u22c5sin(\u03b8\u2084)\u22c5cos(\u03b8\u2082 + \u03b8\u2083) + cos(\u03b8\u2081)\u22c5cos(\u03b8\u2084)   a\u2082\u22c5si\n",
        "                                                                              \n",
        "\u03b8\u2083)                                  -sin(\u03b8\u2084)\u22c5sin(\u03b8\u2082 + \u03b8\u2083)                    \n",
        "                                                                              \n",
        "                                               0                              \n",
        "\n",
        "s(\u03b8\u2081)\u22c5cos(\u03b8\u2082) + a\u2083\u22c5cos(\u03b8\u2081)\u22c5cos(\u03b8\u2082 + \u03b8\u2083) - d\u2083\u22c5sin(\u03b8\u2081) - d\u2084\u22c5sin(\u03b8\u2082 + \u03b8\u2083)\u22c5cos(\u03b8\u2081)\n",
        "                                                                              \n",
        "n(\u03b8\u2081)\u22c5cos(\u03b8\u2082) + a\u2083\u22c5sin(\u03b8\u2081)\u22c5cos(\u03b8\u2082 + \u03b8\u2083) + d\u2083\u22c5cos(\u03b8\u2081) - d\u2084\u22c5sin(\u03b8\u2081)\u22c5sin(\u03b8\u2082 + \u03b8\u2083)\n",
        "                                                                              \n",
        "             -a\u2082\u22c5sin(\u03b8\u2082) - a\u2083\u22c5sin(\u03b8\u2082 + \u03b8\u2083) - d\u2084\u22c5cos(\u03b8\u2082 + \u03b8\u2083)                  \n",
        "                                                                              \n",
        "                                    1                                         \n",
        "\n",
        "\u23a4\n",
        "\u23a5\n",
        "\u23a5\n",
        "\u23a5\n",
        "\u23a5\n",
        "\u23a5\n",
        "\u23a6"
       ]
      }
     ],
     "prompt_number": 28
    },
    {
     "cell_type": "code",
     "collapsed": false,
     "input": [
      "Trans_0to6"
     ],
     "language": "python",
     "metadata": {},
     "outputs": [
      {
       "latex": [
        "$$\\left[\\begin{matrix}\\left(\\left(\\sin{\\left (\\theta_{1} \\right )} \\sin{\\left (\\theta_{4} \\right )} + \\cos{\\left (\\theta_{1} \\right )} \\cos{\\left (\\theta_{4} \\right )} \\cos{\\left (\\theta_{2} + \\theta_{3} \\right )}\\right) \\cos{\\left (\\theta_{5} \\right )} - \\sin{\\left (\\theta_{5} \\right )} \\sin{\\left (\\theta_{2} + \\theta_{3} \\right )} \\cos{\\left (\\theta_{1} \\right )}\\right) \\cos{\\left (\\theta_{6} \\right )} + \\left(\\sin{\\left (\\theta_{1} \\right )} \\cos{\\left (\\theta_{4} \\right )} - \\sin{\\left (\\theta_{4} \\right )} \\cos{\\left (\\theta_{1} \\right )} \\cos{\\left (\\theta_{2} + \\theta_{3} \\right )}\\right) \\sin{\\left (\\theta_{6} \\right )} & - \\left(\\left(\\sin{\\left (\\theta_{1} \\right )} \\sin{\\left (\\theta_{4} \\right )} + \\cos{\\left (\\theta_{1} \\right )} \\cos{\\left (\\theta_{4} \\right )} \\cos{\\left (\\theta_{2} + \\theta_{3} \\right )}\\right) \\cos{\\left (\\theta_{5} \\right )} - \\sin{\\left (\\theta_{5} \\right )} \\sin{\\left (\\theta_{2} + \\theta_{3} \\right )} \\cos{\\left (\\theta_{1} \\right )}\\right) \\sin{\\left (\\theta_{6} \\right )} + \\left(\\sin{\\left (\\theta_{1} \\right )} \\cos{\\left (\\theta_{4} \\right )} - \\sin{\\left (\\theta_{4} \\right )} \\cos{\\left (\\theta_{1} \\right )} \\cos{\\left (\\theta_{2} + \\theta_{3} \\right )}\\right) \\cos{\\left (\\theta_{6} \\right )} & - \\left(\\sin{\\left (\\theta_{1} \\right )} \\sin{\\left (\\theta_{4} \\right )} + \\cos{\\left (\\theta_{1} \\right )} \\cos{\\left (\\theta_{4} \\right )} \\cos{\\left (\\theta_{2} + \\theta_{3} \\right )}\\right) \\sin{\\left (\\theta_{5} \\right )} - \\sin{\\left (\\theta_{2} + \\theta_{3} \\right )} \\cos{\\left (\\theta_{1} \\right )} \\cos{\\left (\\theta_{5} \\right )} & a_{2} \\cos{\\left (\\theta_{1} \\right )} \\cos{\\left (\\theta_{2} \\right )} + a_{3} \\cos{\\left (\\theta_{1} \\right )} \\cos{\\left (\\theta_{2} + \\theta_{3} \\right )} - d_{3} \\sin{\\left (\\theta_{1} \\right )} - d_{4} \\sin{\\left (\\theta_{2} + \\theta_{3} \\right )} \\cos{\\left (\\theta_{1} \\right )}\\\\\\left(\\left(\\sin{\\left (\\theta_{1} \\right )} \\cos{\\left (\\theta_{4} \\right )} \\cos{\\left (\\theta_{2} + \\theta_{3} \\right )} - \\sin{\\left (\\theta_{4} \\right )} \\cos{\\left (\\theta_{1} \\right )}\\right) \\cos{\\left (\\theta_{5} \\right )} - \\sin{\\left (\\theta_{1} \\right )} \\sin{\\left (\\theta_{5} \\right )} \\sin{\\left (\\theta_{2} + \\theta_{3} \\right )}\\right) \\cos{\\left (\\theta_{6} \\right )} - \\left(\\sin{\\left (\\theta_{1} \\right )} \\sin{\\left (\\theta_{4} \\right )} \\cos{\\left (\\theta_{2} + \\theta_{3} \\right )} + \\cos{\\left (\\theta_{1} \\right )} \\cos{\\left (\\theta_{4} \\right )}\\right) \\sin{\\left (\\theta_{6} \\right )} & - \\left(\\left(\\sin{\\left (\\theta_{1} \\right )} \\cos{\\left (\\theta_{4} \\right )} \\cos{\\left (\\theta_{2} + \\theta_{3} \\right )} - \\sin{\\left (\\theta_{4} \\right )} \\cos{\\left (\\theta_{1} \\right )}\\right) \\cos{\\left (\\theta_{5} \\right )} - \\sin{\\left (\\theta_{1} \\right )} \\sin{\\left (\\theta_{5} \\right )} \\sin{\\left (\\theta_{2} + \\theta_{3} \\right )}\\right) \\sin{\\left (\\theta_{6} \\right )} - \\left(\\sin{\\left (\\theta_{1} \\right )} \\sin{\\left (\\theta_{4} \\right )} \\cos{\\left (\\theta_{2} + \\theta_{3} \\right )} + \\cos{\\left (\\theta_{1} \\right )} \\cos{\\left (\\theta_{4} \\right )}\\right) \\cos{\\left (\\theta_{6} \\right )} & - \\left(\\sin{\\left (\\theta_{1} \\right )} \\cos{\\left (\\theta_{4} \\right )} \\cos{\\left (\\theta_{2} + \\theta_{3} \\right )} - \\sin{\\left (\\theta_{4} \\right )} \\cos{\\left (\\theta_{1} \\right )}\\right) \\sin{\\left (\\theta_{5} \\right )} - \\sin{\\left (\\theta_{1} \\right )} \\sin{\\left (\\theta_{2} + \\theta_{3} \\right )} \\cos{\\left (\\theta_{5} \\right )} & a_{2} \\sin{\\left (\\theta_{1} \\right )} \\cos{\\left (\\theta_{2} \\right )} + a_{3} \\sin{\\left (\\theta_{1} \\right )} \\cos{\\left (\\theta_{2} + \\theta_{3} \\right )} + d_{3} \\cos{\\left (\\theta_{1} \\right )} - d_{4} \\sin{\\left (\\theta_{1} \\right )} \\sin{\\left (\\theta_{2} + \\theta_{3} \\right )}\\\\- \\left(\\sin{\\left (\\theta_{5} \\right )} \\cos{\\left (\\theta_{2} + \\theta_{3} \\right )} + \\sin{\\left (\\theta_{2} + \\theta_{3} \\right )} \\cos{\\left (\\theta_{4} \\right )} \\cos{\\left (\\theta_{5} \\right )}\\right) \\cos{\\left (\\theta_{6} \\right )} + \\sin{\\left (\\theta_{4} \\right )} \\sin{\\left (\\theta_{6} \\right )} \\sin{\\left (\\theta_{2} + \\theta_{3} \\right )} & \\left(\\sin{\\left (\\theta_{5} \\right )} \\cos{\\left (\\theta_{2} + \\theta_{3} \\right )} + \\sin{\\left (\\theta_{2} + \\theta_{3} \\right )} \\cos{\\left (\\theta_{4} \\right )} \\cos{\\left (\\theta_{5} \\right )}\\right) \\sin{\\left (\\theta_{6} \\right )} + \\sin{\\left (\\theta_{4} \\right )} \\sin{\\left (\\theta_{2} + \\theta_{3} \\right )} \\cos{\\left (\\theta_{6} \\right )} & \\sin{\\left (\\theta_{5} \\right )} \\sin{\\left (\\theta_{2} + \\theta_{3} \\right )} \\cos{\\left (\\theta_{4} \\right )} - \\cos{\\left (\\theta_{5} \\right )} \\cos{\\left (\\theta_{2} + \\theta_{3} \\right )} & - a_{2} \\sin{\\left (\\theta_{2} \\right )} - a_{3} \\sin{\\left (\\theta_{2} + \\theta_{3} \\right )} - d_{4} \\cos{\\left (\\theta_{2} + \\theta_{3} \\right )}\\\\0 & 0 & 0 & 1\\end{matrix}\\right]$$"
       ],
       "metadata": {},
       "output_type": "pyout",
       "prompt_number": 29,
       "text": [
        "\u23a1((sin(\u03b8\u2081)\u22c5sin(\u03b8\u2084) + cos(\u03b8\u2081)\u22c5cos(\u03b8\u2084)\u22c5cos(\u03b8\u2082 + \u03b8\u2083))\u22c5cos(\u03b8\u2085) - sin(\u03b8\u2085)\u22c5sin(\u03b8\u2082 + \n",
        "\u23a2                                                                             \n",
        "\u23a2((sin(\u03b8\u2081)\u22c5cos(\u03b8\u2084)\u22c5cos(\u03b8\u2082 + \u03b8\u2083) - sin(\u03b8\u2084)\u22c5cos(\u03b8\u2081))\u22c5cos(\u03b8\u2085) - sin(\u03b8\u2081)\u22c5sin(\u03b8\u2085)\u22c5s\n",
        "\u23a2                                                                             \n",
        "\u23a2                               -(sin(\u03b8\u2085)\u22c5cos(\u03b8\u2082 + \u03b8\u2083) + sin(\u03b8\u2082 + \u03b8\u2083)\u22c5cos(\u03b8\u2084)\u22c5\n",
        "\u23a2                                                                             \n",
        "\u23a3                                                                             \n",
        "\n",
        "\u03b8\u2083)\u22c5cos(\u03b8\u2081))\u22c5cos(\u03b8\u2086) + (sin(\u03b8\u2081)\u22c5cos(\u03b8\u2084) - sin(\u03b8\u2084)\u22c5cos(\u03b8\u2081)\u22c5cos(\u03b8\u2082 + \u03b8\u2083))\u22c5sin(\u03b8\u2086\n",
        "                                                                              \n",
        "in(\u03b8\u2082 + \u03b8\u2083))\u22c5cos(\u03b8\u2086) - (sin(\u03b8\u2081)\u22c5sin(\u03b8\u2084)\u22c5cos(\u03b8\u2082 + \u03b8\u2083) + cos(\u03b8\u2081)\u22c5cos(\u03b8\u2084))\u22c5sin(\u03b8\u2086\n",
        "                                                                              \n",
        "cos(\u03b8\u2085))\u22c5cos(\u03b8\u2086) + sin(\u03b8\u2084)\u22c5sin(\u03b8\u2086)\u22c5sin(\u03b8\u2082 + \u03b8\u2083)                               \n",
        "                                                                              \n",
        "0                                                                             \n",
        "\n",
        ")  -((sin(\u03b8\u2081)\u22c5sin(\u03b8\u2084) + cos(\u03b8\u2081)\u22c5cos(\u03b8\u2084)\u22c5cos(\u03b8\u2082 + \u03b8\u2083))\u22c5cos(\u03b8\u2085) - sin(\u03b8\u2085)\u22c5sin(\u03b8\u2082\n",
        "                                                                              \n",
        ")  -((sin(\u03b8\u2081)\u22c5cos(\u03b8\u2084)\u22c5cos(\u03b8\u2082 + \u03b8\u2083) - sin(\u03b8\u2084)\u22c5cos(\u03b8\u2081))\u22c5cos(\u03b8\u2085) - sin(\u03b8\u2081)\u22c5sin(\u03b8\u2085\n",
        "                                                                              \n",
        "                                   (sin(\u03b8\u2085)\u22c5cos(\u03b8\u2082 + \u03b8\u2083) + sin(\u03b8\u2082 + \u03b8\u2083)\u22c5cos(\u03b8\u2084\n",
        "                                                                              \n",
        "                                                                              \n",
        "\n",
        " + \u03b8\u2083)\u22c5cos(\u03b8\u2081))\u22c5sin(\u03b8\u2086) + (sin(\u03b8\u2081)\u22c5cos(\u03b8\u2084) - sin(\u03b8\u2084)\u22c5cos(\u03b8\u2081)\u22c5cos(\u03b8\u2082 + \u03b8\u2083))\u22c5cos\n",
        "                                                                              \n",
        ")\u22c5sin(\u03b8\u2082 + \u03b8\u2083))\u22c5sin(\u03b8\u2086) - (sin(\u03b8\u2081)\u22c5sin(\u03b8\u2084)\u22c5cos(\u03b8\u2082 + \u03b8\u2083) + cos(\u03b8\u2081)\u22c5cos(\u03b8\u2084))\u22c5cos\n",
        "                                                                              \n",
        ")\u22c5cos(\u03b8\u2085))\u22c5sin(\u03b8\u2086) + sin(\u03b8\u2084)\u22c5sin(\u03b8\u2082 + \u03b8\u2083)\u22c5cos(\u03b8\u2086)                             \n",
        "                                                                              \n",
        "   0                                                                          \n",
        "\n",
        "(\u03b8\u2086)  -(sin(\u03b8\u2081)\u22c5sin(\u03b8\u2084) + cos(\u03b8\u2081)\u22c5cos(\u03b8\u2084)\u22c5cos(\u03b8\u2082 + \u03b8\u2083))\u22c5sin(\u03b8\u2085) - sin(\u03b8\u2082 + \u03b8\u2083)\n",
        "                                                                              \n",
        "(\u03b8\u2086)  -(sin(\u03b8\u2081)\u22c5cos(\u03b8\u2084)\u22c5cos(\u03b8\u2082 + \u03b8\u2083) - sin(\u03b8\u2084)\u22c5cos(\u03b8\u2081))\u22c5sin(\u03b8\u2085) - sin(\u03b8\u2081)\u22c5sin(\n",
        "                                                                              \n",
        "                        sin(\u03b8\u2085)\u22c5sin(\u03b8\u2082 + \u03b8\u2083)\u22c5cos(\u03b8\u2084) - cos(\u03b8\u2085)\u22c5cos(\u03b8\u2082 + \u03b8\u2083)   \n",
        "                                                                              \n",
        "                                                 0                            \n",
        "\n",
        "\u22c5cos(\u03b8\u2081)\u22c5cos(\u03b8\u2085)  a\u2082\u22c5cos(\u03b8\u2081)\u22c5cos(\u03b8\u2082) + a\u2083\u22c5cos(\u03b8\u2081)\u22c5cos(\u03b8\u2082 + \u03b8\u2083) - d\u2083\u22c5sin(\u03b8\u2081) - \n",
        "                                                                              \n",
        "\u03b8\u2082 + \u03b8\u2083)\u22c5cos(\u03b8\u2085)  a\u2082\u22c5sin(\u03b8\u2081)\u22c5cos(\u03b8\u2082) + a\u2083\u22c5sin(\u03b8\u2081)\u22c5cos(\u03b8\u2082 + \u03b8\u2083) + d\u2083\u22c5cos(\u03b8\u2081) - \n",
        "                                                                              \n",
        "                                    -a\u2082\u22c5sin(\u03b8\u2082) - a\u2083\u22c5sin(\u03b8\u2082 + \u03b8\u2083) - d\u2084\u22c5cos(\u03b8\u2082 \n",
        "                                                                              \n",
        "                                                           1                  \n",
        "\n",
        "d\u2084\u22c5sin(\u03b8\u2082 + \u03b8\u2083)\u22c5cos(\u03b8\u2081)\u23a4\n",
        "                       \u23a5\n",
        "d\u2084\u22c5sin(\u03b8\u2081)\u22c5sin(\u03b8\u2082 + \u03b8\u2083)\u23a5\n",
        "                       \u23a5\n",
        "+ \u03b8\u2083)                  \u23a5\n",
        "                       \u23a5\n",
        "                       \u23a6"
       ]
      }
     ],
     "prompt_number": 29
    },
    {
     "cell_type": "code",
     "collapsed": false,
     "input": [],
     "language": "python",
     "metadata": {},
     "outputs": []
    }
   ],
   "metadata": {}
  }
 ]
}